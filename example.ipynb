{
 "cells": [
  {
   "cell_type": "code",
   "execution_count": null,
   "metadata": {
    "scrolled": true
   },
   "outputs": [],
   "source": [
    "from sklearn.linear_model import LogisticRegression\n",
    "from sklearn.model_selection import train_test_split\n",
    "import numpy as np\n",
    "import pandas as pd\n",
    "\n",
    "from utils import classification_report\n",
    "from separation_mvp import SeparatedClassifier"
   ]
  },
  {
   "cell_type": "code",
   "execution_count": null,
   "metadata": {},
   "outputs": [],
   "source": [
    "url = \"https://raw.githubusercontent.com/omarfsosa/datasets/master/fairness_synthetic_data.csv\"\n",
    "df = pd.read_csv(url)\n",
    "print(df.head())"
   ]
  },
  {
   "cell_type": "code",
   "execution_count": null,
   "metadata": {},
   "outputs": [],
   "source": [
    "X_train, X_test, y_train, y_test, A_train, A_test = train_test_split(\n",
    "    df.drop(columns=\"y\"),\n",
    "    df[\"y\"],\n",
    "    df[\"A\"],\n",
    "    test_size=.6,\n",
    "    random_state=42,\n",
    ")"
   ]
  },
  {
   "cell_type": "code",
   "execution_count": null,
   "metadata": {},
   "outputs": [],
   "source": [
    "clf = LogisticRegression(solver=\"lbfgs\")\n",
    "clf.fit(X_train, y_train)\n",
    "y_pred = clf.predict(X_test)"
   ]
  },
  {
   "cell_type": "code",
   "execution_count": null,
   "metadata": {},
   "outputs": [],
   "source": [
    "print(classification_report(y_test, y_pred, A_test))"
   ]
  },
  {
   "cell_type": "markdown",
   "metadata": {},
   "source": [
    "## Fit a separated classifier"
   ]
  },
  {
   "cell_type": "code",
   "execution_count": null,
   "metadata": {},
   "outputs": [],
   "source": [
    "R_train = clf.predict_proba(X_train)[:, 1]\n",
    "R_test = clf.predict_proba(X_test)[:, 1]\n",
    "goal_tpr, goal_fpr = 0.83591123066577, 0.2639968121139669"
   ]
  },
  {
   "cell_type": "code",
   "execution_count": null,
   "metadata": {},
   "outputs": [],
   "source": [
    "fair_clf = SeparatedClassifier(y_train, R_train, A_train)\n",
    "fair_clf.fit(goal_fpr, goal_tpr)\n",
    "\n",
    "for k, v in fair_clf.randomized_thresholds.items():\n",
    "    print(f\"Group {k}: t0={v[0]:.2f}, t1={v[1]:.2f}, p={v[2]:.2f}\")"
   ]
  },
  {
   "cell_type": "code",
   "execution_count": null,
   "metadata": {},
   "outputs": [],
   "source": [
    "y_pred_fair = fair_clf.fair_predict(R_test, A_test)\n",
    "print(classification_report(y_test, y_pred_fair, A_test))"
   ]
  }
 ],
 "metadata": {
  "kernelspec": {
   "display_name": "Python3 (fairness)",
   "language": "python",
   "name": "fairness"
  },
  "language_info": {
   "codemirror_mode": {
    "name": "ipython",
    "version": 3
   },
   "file_extension": ".py",
   "mimetype": "text/x-python",
   "name": "python",
   "nbconvert_exporter": "python",
   "pygments_lexer": "ipython3",
   "version": "3.7.4"
  }
 },
 "nbformat": 4,
 "nbformat_minor": 2
}
